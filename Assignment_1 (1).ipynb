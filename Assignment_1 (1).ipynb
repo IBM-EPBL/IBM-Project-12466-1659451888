{
  "metadata": {
    "colab": {
      "provenance": [],
      "collapsed_sections": []
    },
    "kernelspec": {
      "name": "python",
      "display_name": "Python (Pyodide)",
      "language": "python"
    },
    "language_info": {
      "codemirror_mode": {
        "name": "python",
        "version": 3
      },
      "file_extension": ".py",
      "mimetype": "text/x-python",
      "name": "python",
      "nbconvert_exporter": "python",
      "pygments_lexer": "ipython3",
      "version": "3.8"
    }
  },
  "nbformat_minor": 4,
  "nbformat": 4,
  "cells": [
    {
      "cell_type": "markdown",
      "source": "# Basic Python",
      "metadata": {
        "id": "McSxJAwcOdZ1"
      }
    },
    {
      "cell_type": "markdown",
      "source": "## 1. Split this string",
      "metadata": {
        "id": "CU48hgo4Owz5"
      }
    },
    {
      "cell_type": "code",
      "source": "s = \"Hi there Sam!\"",
      "metadata": {
        "id": "s07c7JK7Oqt-",
        "trusted": true
      },
      "execution_count": null,
      "outputs": []
    },
    {
      "cell_type": "code",
      "source": "x=s.split()\nprint(x)",
      "metadata": {
        "id": "6mGVa3SQYLkb",
        "colab": {
          "base_uri": "https://localhost:8080/",
          "height": 0
        },
        "outputId": "cc5c3d43-da72-442c-89ef-24c01ca9f524",
        "trusted": true
      },
      "execution_count": null,
      "outputs": []
    },
    {
      "cell_type": "markdown",
      "source": "*`italicized text`*## 2. Use .format() to print the following string. \n\n### Output should be: The diameter of Earth is 12742 kilometers.",
      "metadata": {
        "id": "GH1QBn8HP375"
      }
    },
    {
      "cell_type": "code",
      "source": "planet = \"Earth\"\ndiameter = 12742",
      "metadata": {
        "id": "_ZHoml3kPqic",
        "trusted": true
      },
      "execution_count": null,
      "outputs": []
    },
    {
      "cell_type": "code",
      "source": "print('The diameter of {} is {} kilometers.'.format(planet,diameter));",
      "metadata": {
        "id": "HyRyJv6CYPb4",
        "colab": {
          "base_uri": "https://localhost:8080/",
          "height": 0
        },
        "outputId": "e7eeed64-c31b-45e9-9277-199e0389eaa4",
        "trusted": true
      },
      "execution_count": 23,
      "outputs": [
        {
          "name": "stdout",
          "text": "The diameter of Earth is 12742 kilometers.\n",
          "output_type": "stream"
        }
      ]
    },
    {
      "cell_type": "markdown",
      "source": "## 3. In this nest dictionary grab the word \"hello\"",
      "metadata": {
        "id": "KE74ZEwkRExZ"
      }
    },
    {
      "cell_type": "code",
      "source": "d = {'k1':[1,2,3,{'tricky':['oh','man','inception',{'target':[1,2,3,'hello']}]}]}",
      "metadata": {
        "id": "fcVwbCc1QrQI",
        "trusted": true
      },
      "execution_count": null,
      "outputs": []
    },
    {
      "cell_type": "code",
      "source": "print(d['k1'][3][\"tricky\"][3]['target'][3])",
      "metadata": {
        "id": "MvbkMZpXYRaw",
        "colab": {
          "base_uri": "https://localhost:8080/",
          "height": 0
        },
        "outputId": "1f91194f-af60-4841-b47e-092d9636d48e",
        "trusted": true
      },
      "execution_count": null,
      "outputs": []
    },
    {
      "cell_type": "markdown",
      "source": "# Numpy",
      "metadata": {
        "id": "bw0vVp-9ddjv"
      }
    },
    {
      "cell_type": "code",
      "source": "import numpy as np",
      "metadata": {
        "id": "LLiE_TYrhA1O",
        "trusted": true
      },
      "execution_count": null,
      "outputs": []
    },
    {
      "cell_type": "markdown",
      "source": "## 4.1 Create an array of 10 zeros? \n## 4.2 Create an array of 10 fives?",
      "metadata": {
        "id": "wOg8hinbgx30"
      }
    },
    {
      "cell_type": "code",
      "source": "np.zeros(10)",
      "metadata": {
        "id": "NHrirmgCYXvU",
        "colab": {
          "base_uri": "https://localhost:8080/",
          "height": 0
        },
        "outputId": "d42f5c4c-e898-468a-c784-36486743390e",
        "trusted": true
      },
      "execution_count": null,
      "outputs": []
    },
    {
      "cell_type": "code",
      "source": "np.ones(10)*5\n\n\n",
      "metadata": {
        "id": "e4005lsTYXxx",
        "colab": {
          "base_uri": "https://localhost:8080/",
          "height": 0
        },
        "outputId": "1b64a26e-9403-4568-b87b-7565f1359997",
        "trusted": true
      },
      "execution_count": null,
      "outputs": []
    },
    {
      "cell_type": "markdown",
      "source": "## 5. Create an array of all the even integers from 20 to 35",
      "metadata": {
        "id": "gZHHDUBvrMX4"
      }
    },
    {
      "cell_type": "code",
      "source": "x=np.arange(25,35)\ny=(x%2==0)\nz=x[y]\nprint(z)",
      "metadata": {
        "id": "oAI2tbU2Yag-",
        "colab": {
          "base_uri": "https://localhost:8080/",
          "height": 0
        },
        "outputId": "27e97ebc-6c27-48bf-d04c-83297b511ca8",
        "trusted": true
      },
      "execution_count": null,
      "outputs": []
    },
    {
      "cell_type": "markdown",
      "source": "## 6. Create a 3x3 matrix with values ranging from 0 to 8",
      "metadata": {
        "id": "NaOM308NsRpZ"
      }
    },
    {
      "cell_type": "code",
      "source": "np.arange(0,9).reshape((3,3))",
      "metadata": {
        "id": "tOlEVH7BYceE",
        "colab": {
          "base_uri": "https://localhost:8080/",
          "height": 0
        },
        "outputId": "04b85ad2-7804-4ebf-c3cd-5b6d73694bd9",
        "trusted": true
      },
      "execution_count": null,
      "outputs": []
    },
    {
      "cell_type": "markdown",
      "source": "## 7. Concatinate a and b \n## a = np.array([1, 2, 3]), b = np.array([4, 5, 6])",
      "metadata": {
        "id": "hQ0dnhAQuU_p"
      }
    },
    {
      "cell_type": "code",
      "source": "a = np.array([1, 2, 3])\nb = np.array([4, 5, 6])\nc = np.concatenate((a,b)) \nprint(c)",
      "metadata": {
        "id": "rAPSw97aYfE0",
        "colab": {
          "base_uri": "https://localhost:8080/",
          "height": 0
        },
        "outputId": "d3aab8f9-857b-4757-bd5e-dd886fa57ce9",
        "trusted": true
      },
      "execution_count": 15,
      "outputs": [
        {
          "name": "stdout",
          "text": "[1 2 3 4 5 6]\n",
          "output_type": "stream"
        }
      ]
    },
    {
      "cell_type": "markdown",
      "source": "# Pandas",
      "metadata": {
        "id": "dlPEY9DRwZga"
      }
    },
    {
      "cell_type": "markdown",
      "source": "## 8. Create a dataframe with 3 rows and 2 columns",
      "metadata": {
        "id": "ijoYW51zwr87"
      }
    },
    {
      "cell_type": "code",
      "source": "import pandas as pd\n",
      "metadata": {
        "id": "T5OxJRZ8uvR7",
        "trusted": true
      },
      "execution_count": null,
      "outputs": []
    },
    {
      "cell_type": "code",
      "source": "teams=[['hi',2],['hai',1],['hello',1]]\nipl=pd.DataFrame(teams,columns=['Teams','run'])\nipl",
      "metadata": {
        "id": "xNpI_XXoYhs0",
        "colab": {
          "base_uri": "https://localhost:8080/",
          "height": 143
        },
        "outputId": "bf90346d-74c5-40bc-96f1-60fb5c70a9f0",
        "trusted": true
      },
      "execution_count": null,
      "outputs": []
    },
    {
      "cell_type": "markdown",
      "source": "## 9. Generate the series of dates from 1st Jan, 2023 to 10th Feb, 2023",
      "metadata": {
        "id": "UXSmdNclyJQD"
      }
    },
    {
      "cell_type": "code",
      "source": "pd.date_range(start=pd.Timestamp(\"2023-1-1\"), periods=41, freq='D') + pd.Timedelta(days=0)",
      "metadata": {
        "id": "dgyC0JhVYl4F",
        "colab": {
          "base_uri": "https://localhost:8080/",
          "height": 0
        },
        "outputId": "a31c0630-ae35-45a1-e051-e0547c518a08",
        "trusted": true
      },
      "execution_count": null,
      "outputs": []
    },
    {
      "cell_type": "markdown",
      "source": "## 10. Create 2D list to DataFrame\n\nlists = [[1, 'aaa', 22],\n         [2, 'bbb', 25],\n         [3, 'ccc', 24]]",
      "metadata": {
        "id": "ZizSetD-y5az"
      }
    },
    {
      "cell_type": "code",
      "source": "lists = [[1, 'aaa', 22], [2, 'bbb', 25], [3, 'ccc', 24]]",
      "metadata": {
        "id": "_XMC8aEt0llB"
      },
      "execution_count": 11,
      "outputs": []
    },
    {
      "cell_type": "code",
      "source": "df=pd.DataFrame(lists,columns=[\"number\",\"Tag\",\"number\"])\nprint(df)",
      "metadata": {
        "id": "knH76sDKYsVX",
        "colab": {
          "base_uri": "https://localhost:8080/",
          "height": 0
        },
        "outputId": "267ea84e-3a62-4f95-c220-57c5722c6d99",
        "trusted": true
      },
      "execution_count": null,
      "outputs": []
    },
    {
      "cell_type": "code",
      "source": "",
      "metadata": {},
      "execution_count": null,
      "outputs": []
    },
    {
      "cell_type": "code",
      "source": "",
      "metadata": {},
      "execution_count": null,
      "outputs": []
    },
    {
      "cell_type": "code",
      "source": "",
      "metadata": {},
      "execution_count": null,
      "outputs": []
    }
  ]
}